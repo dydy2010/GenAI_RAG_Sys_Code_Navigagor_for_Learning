{
 "cells": [
  {
   "cell_type": "markdown",
   "id": "b5d834fd",
   "metadata": {},
   "source": [
    "# Problem 2"
   ]
  },
  {
   "cell_type": "code",
   "execution_count": null,
   "id": "0e12f53f",
   "metadata": {},
   "outputs": [],
   "source": [
    "nyc <- read.csv(\"nyc-marathon.csv\")\n",
    "\n",
    "female <- nyc[nyc[, \"Gender\"] == \"female\" ,]\n",
    "\n",
    "male <- nyc[nyc[,\"Gender\"]==\"male\",]"
   ]
  },
  {
   "cell_type": "markdown",
   "id": "a4edbc11",
   "metadata": {},
   "source": [
    "# Problem 3"
   ]
  },
  {
   "cell_type": "code",
   "execution_count": null,
   "id": "f2415fe7",
   "metadata": {},
   "outputs": [],
   "source": [
    "life <- read.csv(\"led.csv\")"
   ]
  }
 ],
 "metadata": {
  "kernelspec": {
   "display_name": "R",
   "language": "R",
   "name": "ir"
  }
 },
 "nbformat": 4,
 "nbformat_minor": 5
}
