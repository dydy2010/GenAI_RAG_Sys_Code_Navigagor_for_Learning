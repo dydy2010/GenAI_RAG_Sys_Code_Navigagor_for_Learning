{
 "cells": [
  {
   "cell_type": "markdown",
   "source": [
    "# Intro 'Conditional Statement'  \n",
    "\n",
    "\n",
    "Below are some code examples taken from https://www.python-course.eu/python3_conditional_statements.php - revised and rearranged: `mae`\n"
   ],
   "metadata": {}
  },
  {
   "cell_type": "code",
   "source": [
    "from random import random\n",
    "\n",
    "###################\n",
    "# Exercise 5\n",
    "###################\n",
    "\"\"\"\n",
    "Write a Python program to guess a number between 1 to 10.\n",
    "First: Use the predefined code block to create a random number\n",
    "Second:\n",
    "The user is prompted to enter a guess. If the guess is wrong a message\n",
    "\"to big\" or \"to small\" is printed to the console and the prompt (user\n",
    "input) appears again until the guess is correct. If the guess is correct, \"Well guessed!\" will be printed and the program ends.\n",
    "Extension:\n",
    "The number of trials should be prompted as well: \"Well done - you have tried it 4 times!\"\n",
    "Try debug functions while writing code\"\"\"\n",
    "help(random)\n",
    "from random import randint\n",
    "random_num=randint(1,11)\n",
    "guess_num= int(input(\"Guess a number between 1 to 10: \"))\n",
    "if guess_num==random_num:\n",
    "    print(\"Well guessed!\")\n",
    "elif guess_num>random_num:\n",
    "    print(\"Too high!\")\n",
    "else:\n",
    "    print(\"Too low!\")\n"
   ],
   "metadata": {
    "ExecuteTime": {
     "end_time": "2025-03-16T23:18:13.224351Z",
     "start_time": "2025-03-16T23:18:10.370498Z"
    }
   },
   "outputs": [
    {
     "name": "stdout",
     "output_type": "stream",
     "text": [
      "Help on built-in function random:\n",
      "\n",
      "random() method of random.Random instance\n",
      "    random() -> x in the interval [0, 1).\n",
      "\n",
      "Too high!\n"
     ]
    }
   ],
   "execution_count": 17
  },
  {
   "metadata": {},
   "cell_type": "markdown",
   "source": "## Conditional Statements"
  },
  {
   "metadata": {},
   "cell_type": "markdown",
   "source": [
    "**Goal:**\n",
    "\n",
    "We would like to give children a recommendation, depending on their age, whether they should watch a film or not."
   ]
  },
  {
   "metadata": {},
   "cell_type": "markdown",
   "source": [
    "### Simplest if statement\n",
    "\n"
   ]
  },
  {
   "metadata": {
    "scrolled": true,
    "ExecuteTime": {
     "end_time": "2025-03-16T23:09:41.932967Z",
     "start_time": "2025-03-16T23:09:40.477065Z"
    }
   },
   "cell_type": "code",
   "outputs": [
    {
     "ename": "KeyboardInterrupt",
     "evalue": "Interrupted by user",
     "output_type": "error",
     "traceback": [
      "\u001B[31m---------------------------------------------------------------------------\u001B[39m",
      "\u001B[31mKeyboardInterrupt\u001B[39m                         Traceback (most recent call last)",
      "\u001B[36mCell\u001B[39m\u001B[36m \u001B[39m\u001B[32mIn[5]\u001B[39m\u001B[32m, line 5\u001B[39m\n\u001B[32m      1\u001B[39m \u001B[38;5;66;03m# try to find out: \u001B[39;00m\n\u001B[32m      2\u001B[39m \u001B[38;5;66;03m# what is the ouput of this little progam, if you enter '11' and then '14'\u001B[39;00m\n\u001B[32m----> \u001B[39m\u001B[32m5\u001B[39m age = \u001B[38;5;28mint\u001B[39m(\u001B[38;5;28;43minput\u001B[39;49m\u001B[43m(\u001B[49m\u001B[33;43m\"\u001B[39;49m\u001B[33;43mYour age? \u001B[39;49m\u001B[33;43m\"\u001B[39;49m\u001B[43m)\u001B[49m)  \n\u001B[32m      6\u001B[39m \u001B[38;5;66;03m# input:  11     (first run!)\u001B[39;00m\n\u001B[32m      7\u001B[39m \u001B[38;5;66;03m# input:  14     (second run!)\u001B[39;00m\n\u001B[32m      9\u001B[39m \u001B[38;5;28;01mif\u001B[39;00m age < \u001B[32m12\u001B[39m:\n",
      "\u001B[36mFile \u001B[39m\u001B[32m/Library/Frameworks/Python.framework/Versions/3.13/lib/python3.13/site-packages/ipykernel/kernelbase.py:1282\u001B[39m, in \u001B[36mKernel.raw_input\u001B[39m\u001B[34m(self, prompt)\u001B[39m\n\u001B[32m   1280\u001B[39m     msg = \u001B[33m\"\u001B[39m\u001B[33mraw_input was called, but this frontend does not support input requests.\u001B[39m\u001B[33m\"\u001B[39m\n\u001B[32m   1281\u001B[39m     \u001B[38;5;28;01mraise\u001B[39;00m StdinNotImplementedError(msg)\n\u001B[32m-> \u001B[39m\u001B[32m1282\u001B[39m \u001B[38;5;28;01mreturn\u001B[39;00m \u001B[38;5;28;43mself\u001B[39;49m\u001B[43m.\u001B[49m\u001B[43m_input_request\u001B[49m\u001B[43m(\u001B[49m\n\u001B[32m   1283\u001B[39m \u001B[43m    \u001B[49m\u001B[38;5;28;43mstr\u001B[39;49m\u001B[43m(\u001B[49m\u001B[43mprompt\u001B[49m\u001B[43m)\u001B[49m\u001B[43m,\u001B[49m\n\u001B[32m   1284\u001B[39m \u001B[43m    \u001B[49m\u001B[38;5;28;43mself\u001B[39;49m\u001B[43m.\u001B[49m\u001B[43m_parent_ident\u001B[49m\u001B[43m[\u001B[49m\u001B[33;43m\"\u001B[39;49m\u001B[33;43mshell\u001B[39;49m\u001B[33;43m\"\u001B[39;49m\u001B[43m]\u001B[49m\u001B[43m,\u001B[49m\n\u001B[32m   1285\u001B[39m \u001B[43m    \u001B[49m\u001B[38;5;28;43mself\u001B[39;49m\u001B[43m.\u001B[49m\u001B[43mget_parent\u001B[49m\u001B[43m(\u001B[49m\u001B[33;43m\"\u001B[39;49m\u001B[33;43mshell\u001B[39;49m\u001B[33;43m\"\u001B[39;49m\u001B[43m)\u001B[49m\u001B[43m,\u001B[49m\n\u001B[32m   1286\u001B[39m \u001B[43m    \u001B[49m\u001B[43mpassword\u001B[49m\u001B[43m=\u001B[49m\u001B[38;5;28;43;01mFalse\u001B[39;49;00m\u001B[43m,\u001B[49m\n\u001B[32m   1287\u001B[39m \u001B[43m\u001B[49m\u001B[43m)\u001B[49m\n",
      "\u001B[36mFile \u001B[39m\u001B[32m/Library/Frameworks/Python.framework/Versions/3.13/lib/python3.13/site-packages/ipykernel/kernelbase.py:1325\u001B[39m, in \u001B[36mKernel._input_request\u001B[39m\u001B[34m(self, prompt, ident, parent, password)\u001B[39m\n\u001B[32m   1322\u001B[39m \u001B[38;5;28;01mexcept\u001B[39;00m \u001B[38;5;167;01mKeyboardInterrupt\u001B[39;00m:\n\u001B[32m   1323\u001B[39m     \u001B[38;5;66;03m# re-raise KeyboardInterrupt, to truncate traceback\u001B[39;00m\n\u001B[32m   1324\u001B[39m     msg = \u001B[33m\"\u001B[39m\u001B[33mInterrupted by user\u001B[39m\u001B[33m\"\u001B[39m\n\u001B[32m-> \u001B[39m\u001B[32m1325\u001B[39m     \u001B[38;5;28;01mraise\u001B[39;00m \u001B[38;5;167;01mKeyboardInterrupt\u001B[39;00m(msg) \u001B[38;5;28;01mfrom\u001B[39;00m\u001B[38;5;250m \u001B[39m\u001B[38;5;28;01mNone\u001B[39;00m\n\u001B[32m   1326\u001B[39m \u001B[38;5;28;01mexcept\u001B[39;00m \u001B[38;5;167;01mException\u001B[39;00m:\n\u001B[32m   1327\u001B[39m     \u001B[38;5;28mself\u001B[39m.log.warning(\u001B[33m\"\u001B[39m\u001B[33mInvalid Message:\u001B[39m\u001B[33m\"\u001B[39m, exc_info=\u001B[38;5;28;01mTrue\u001B[39;00m)\n",
      "\u001B[31mKeyboardInterrupt\u001B[39m: Interrupted by user"
     ]
    }
   ],
   "execution_count": 5,
   "source": [
    "# try to find out:\n",
    "# what is the ouput of this little progam, if you enter '11' and then '14'\n",
    "\n",
    "\n",
    "age = int(input(\"Your age? \"))\n",
    "# input:  11     (first run!)\n",
    "# input:  14     (second run!)\n",
    "\n",
    "if age < 12:\n",
    "    print(\"Sorry, the film is only from 12!\")\n",
    "\n",
    "\n"
   ]
  },
  {
   "metadata": {},
   "cell_type": "markdown",
   "source": "In the cell below, make a small note of what we learned (using `markdown` notation) !)"
  },
  {
   "metadata": {
    "ExecuteTime": {
     "end_time": "2025-03-16T23:09:48.829898Z",
     "start_time": "2025-03-16T23:09:48.826650Z"
    }
   },
   "cell_type": "code",
   "outputs": [],
   "execution_count": 6,
   "source": "###"
  },
  {
   "metadata": {
    "scrolled": true
   },
   "cell_type": "markdown",
   "source": "###  'if' statement with 'else'-branch"
  },
  {
   "metadata": {
    "ExecuteTime": {
     "end_time": "2025-03-16T23:01:43.972949Z",
     "start_time": "2025-03-16T23:01:41.327347Z"
    }
   },
   "cell_type": "code",
   "outputs": [
    {
     "name": "stdout",
     "output_type": "stream",
     "text": [
      "Okay, have fun!\n"
     ]
    }
   ],
   "execution_count": 4,
   "source": [
    "# now we always want to generate an output\n",
    "# no matter whether a child is  < 12 or not   => we use `else`:\n",
    "\n",
    "# As in the last example: Enter 11 first and then 14 to test.\n",
    "\n",
    "age = int(input(\"Your age? \"))\n",
    "# input:  11     (first run!)\n",
    "# input:  14     (second run!)\n",
    "\n",
    "if age < 12:\n",
    "    print(\"Sorry, the film is only from 12!\")\n",
    "else:\n",
    "    print(\"Okay, have fun!\")\n"
   ]
  },
  {
   "cell_type": "markdown",
   "source": [
    "### 'else'-branch vs 'elif'-branch"
   ],
   "metadata": {}
  },
  {
   "cell_type": "markdown",
   "source": [
    "If we want to give the children more precise recommendations, we have to \"nest\" several if statements.\n",
    "\n",
    "The recommendations should look like this:\n",
    "- If age <4: Film is too complicated for you!\n",
    "- If age <12: Okay, have fun!\n",
    "- If age <16: Are you sure? Is this the right film for you?\n",
    "- If age> = 16: Forget the movie! Kid stuf!\n",
    "\n",
    "As in practice, often the recommendation will not be 100% clear.\\\n",
    "Decide for yourself (in a second step) what exactly should apply (e.g. on the borders)."
   ],
   "metadata": {}
  },
  {
   "cell_type": "markdown",
   "source": [
    "**Example 1:** With `nested if` - Statements "
   ],
   "metadata": {}
  },
  {
   "cell_type": "code",
   "execution_count": null,
   "source": [
    "# inputs:  3, 11, 14, 17 \n",
    "age = int(input(\"Your age? \"))\n",
    "\n",
    "if age < 4:\n",
    "    print(\"Film is too complicated for you!\")\n",
    "else:\n",
    "    if age < 12:\n",
    "        print(\"Okay, have fun!\")\n",
    "    else:\n",
    "        if age < 16:\n",
    "            print(\"Are you sure? Is this the right film for you?\")\n",
    "        else:\n",
    "            print(\"Forget the movie! Kid stuf!\")\n",
    "\n",
    "print(\"Movie recommendation ended!\")            \n",
    "            \n",
    "# test yourself the borders 4, 12, 16 ... is everything ok for you?           "
   ],
   "outputs": [],
   "metadata": {}
  },
  {
   "cell_type": "markdown",
   "source": [
    "The `elif` statement is often used in practice instead of `nested if` commands.\n",
    "\n",
    "You can see the same example below as above with `elif` commands.\n",
    "What do you think?"
   ],
   "metadata": {}
  },
  {
   "cell_type": "markdown",
   "source": [
    "**Example 2:**  With `elif` statements"
   ],
   "metadata": {}
  },
  {
   "cell_type": "code",
   "execution_count": null,
   "source": [
    "# inputs:  3, 11, 14, 17\n",
    "age = int(input(\"Your age? \"))\n",
    "\n",
    "if age < 4:\n",
    "    print(\"Film is too complicated for you!\")\n",
    "elif age < 12:\n",
    "    print(\"Okay, have fun!\")\n",
    "elif age < 16:\n",
    "    print(\"Are you sure? Is this the right film for you?\")\n",
    "else:\n",
    "    print(\"Forget the movie! Kid stuf!\")\n",
    "    \n",
    "print(\"Movie recommendation ended!\")      \n",
    "\n",
    "# test yourself the borders 4, 12, 16 ... is everything ok for you?    "
   ],
   "outputs": [],
   "metadata": {}
  },
  {
   "cell_type": "code",
   "execution_count": null,
   "source": [],
   "outputs": [],
   "metadata": {}
  },
  {
   "cell_type": "code",
   "execution_count": null,
   "source": [],
   "outputs": [],
   "metadata": {}
  },
  {
   "cell_type": "markdown",
   "source": [
    "### Comparison operators, conditions, True or False\n",
    "\n"
   ],
   "metadata": {}
  },
  {
   "cell_type": "markdown",
   "source": [
    "Have a look at https://docs.python.org/3/library/stdtypes.html#index-3  : <br>\n",
    "<br>\n",
    "\n",
    "The simple rule: **Anything that is not False, is True!** <br>\n",
    "\n",
    "So we only need to define what is “wrong”, i.e. what is false: <br>\n",
    "<br>\n",
    "\n",
    "Here are most of the built-in objects considered false:<br>\n",
    "■ constants defined to be false: None and False.<br>\n",
    "■ zero of any numeric type: 0, 0.0, 0j, Decimal(0), Fraction(0, 1)<br>\n",
    "■ empty sequences and collections: '', (), [], {}, set(), range(0)<br>\n",
    "\n",
    "<br>\n",
    "<b>Python regards all other values as \"true\", i.e. true.</b><br>\n",
    "<br>\n",
    "The following two examples explains that facts .... try it out! "
   ],
   "metadata": {}
  },
  {
   "cell_type": "code",
   "execution_count": null,
   "source": [
    "# inputs: 22, 0\n",
    "\n",
    "x = int(input(\"Input a Number: \"))\n",
    "if x:                             # reason: Anything that is not false is True!!!!\n",
    "    print(\"The number entered is not zero.\")\n",
    "else:\n",
    "    print(\"The number entered is zero.\")"
   ],
   "outputs": [],
   "metadata": {}
  },
  {
   "cell_type": "code",
   "execution_count": null,
   "source": [
    "# Addition: \"Normal\" (in other programming languages) is programmed as follows:\n",
    "# inputs: 22, 0 \n",
    "\n",
    "x = int(input(\"Input a Number: \"))\n",
    "if x == 0 :                           # check yourself if x is 0! \n",
    "    print(\"The number entered is zero.\")\n",
    "else:\n",
    "    print(\"The number entered is not zero.\")\n",
    "    \n",
    "\n",
    "# print(\"*\"* 20)     # as repetition\n",
    "    \n",
    "# a = 42             # this is a right-to-left assignment\n",
    "# print(a == 42  )   # this is a logical comparison: if a equals 42"
   ],
   "outputs": [],
   "metadata": {}
  },
  {
   "cell_type": "markdown",
   "source": [
    "Which of these two examples is better?\\\n",
    "This is often a \"matter of taste\" for the developer. You just have to be able to \"read\" both spellings.\n",
    "\n",
    "\n",
    "Here is another example that is often found in practice:\\\n",
    "It is examined whether **a list is empty or not.**"
   ],
   "metadata": {}
  },
  {
   "cell_type": "code",
   "execution_count": null,
   "source": [
    "liste = []\n",
    "#liste = [1,'HSLU']                      # second trial!\n",
    "\n",
    "\n",
    "if liste:                                # empty list = False !! => have a look above!\n",
    "    print(\"List contains elements!\")\n",
    "else:\n",
    "    print(\"List is empty!\")\n"
   ],
   "outputs": [],
   "metadata": {}
  },
  {
   "cell_type": "code",
   "execution_count": null,
   "source": [],
   "outputs": [],
   "metadata": {}
  },
  {
   "cell_type": "markdown",
   "source": [
    "### Exercises Condition (if and elif statements)\n",
    "Based on an Exercise of Bernd Klein (Einführung in Python) <br>\n",
    "\n",
    "\n",
    "If you want to compare the age of a dog with human years, the following calculation is often used: <br>\n",
    "You calculate dog years into human years by multiplying the dog's age by 7. <br> \n",
    "\n",
    "<br>\n",
    "However, the conversion looks a bit more complicated for e.g. big dogs and depends on breed (german: Rasse): \n",
    "\n",
    "- A one year old dog is roughly equivalent to a 14 year old human.\n",
    "- 2 years of a dog corresponds to 22 years of a human.\n",
    "- From then on, one dog year corresponds to 5 human years.<br>\n",
    "\n",
    "<br> \n",
    "Write a program that asks for the age of a dog and then uses the above method to calculate what age in human years  corresponds the entered value. "
   ],
   "metadata": {}
  },
  {
   "cell_type": "code",
   "execution_count": null,
   "source": [],
   "outputs": [],
   "metadata": {}
  },
  {
   "cell_type": "code",
   "execution_count": null,
   "source": [],
   "outputs": [],
   "metadata": {}
  },
  {
   "cell_type": "code",
   "execution_count": null,
   "source": [],
   "outputs": [],
   "metadata": {}
  },
  {
   "cell_type": "code",
   "execution_count": null,
   "source": [],
   "outputs": [],
   "metadata": {}
  },
  {
   "cell_type": "code",
   "execution_count": null,
   "source": [],
   "outputs": [],
   "metadata": {}
  },
  {
   "cell_type": "code",
   "execution_count": null,
   "source": [],
   "outputs": [],
   "metadata": {}
  },
  {
   "cell_type": "code",
   "execution_count": null,
   "source": [],
   "outputs": [],
   "metadata": {}
  },
  {
   "cell_type": "code",
   "execution_count": null,
   "source": [],
   "outputs": [],
   "metadata": {}
  },
  {
   "cell_type": "code",
   "execution_count": null,
   "source": [],
   "outputs": [],
   "metadata": {}
  },
  {
   "cell_type": "code",
   "execution_count": null,
   "source": [
    "# solution (proposal!!!)\n",
    "\n",
    "\n",
    "age = int(input(\"Enter the age of the dog (1,2,...): \"))\n",
    "print()\n",
    "if age < 0:\n",
    "    print(\"This cannot be true!\")\n",
    "elif age == 0:\n",
    "    print(\"This corresponds to 0 human years!\")\n",
    "elif age == 1:\n",
    "    print(\"Roughly 14 years!\")\n",
    "elif age == 2:\n",
    "    print(\"Approximately 22 years!\")\n",
    "else:\n",
    "    human = 22 + (age -2) * 5\n",
    "    print(\"Corresponds to  \" + str(human) + \" human years!\")"
   ],
   "outputs": [],
   "metadata": {}
  }
 ],
 "metadata": {
  "kernelspec": {
   "display_name": "Python 3",
   "language": "python",
   "name": "python3"
  },
  "language_info": {
   "codemirror_mode": {
    "name": "ipython",
    "version": 3
   },
   "file_extension": ".py",
   "mimetype": "text/x-python",
   "name": "python",
   "nbconvert_exporter": "python",
   "pygments_lexer": "ipython3",
   "version": "3.8.5"
  }
 },
 "nbformat": 4,
 "nbformat_minor": 2
}
