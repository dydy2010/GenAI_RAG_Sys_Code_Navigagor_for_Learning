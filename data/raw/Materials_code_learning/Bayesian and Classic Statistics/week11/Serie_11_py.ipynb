{
 "cells": [
  {
   "cell_type": "markdown",
   "id": "a29348fe",
   "metadata": {},
   "source": [
    "# Serie 11"
   ]
  },
  {
   "cell_type": "code",
   "execution_count": 4,
   "id": "850c785f",
   "metadata": {},
   "outputs": [],
   "source": [
    "from scipy.stats import beta\n",
    "import numpy as np\n",
    "\n",
    "def hdi(a,b, prob = 0.95):\n",
    "    k = 0\n",
    "    x = np.linspace(0,1,100000)\n",
    "    y = beta.pdf(x,a,b)\n",
    "    while True:\n",
    "       k = k+0.0001\n",
    "       if np.sum(y[y > k])/np.size(x) < prob:\n",
    "        break\n",
    "    return x[np.argwhere(y > k)][0] ,x[np.argwhere(y > k)][np.argwhere(y > k).size-1]"
   ]
  },
  {
   "cell_type": "code",
   "execution_count": 10,
   "id": "68098504",
   "metadata": {},
   "outputs": [
    {
     "data": {
      "text/plain": [
       "(array([0.25408254]), array([0.85118851]))"
      ]
     },
     "execution_count": 10,
     "metadata": {},
     "output_type": "execute_result"
    }
   ],
   "source": [
    "hdi(5,4)"
   ]
  },
  {
   "cell_type": "code",
   "execution_count": 6,
   "id": "c51390f9",
   "metadata": {},
   "outputs": [
    {
     "data": {
      "text/plain": [
       "array([0.81135811])"
      ]
     },
     "execution_count": 6,
     "metadata": {},
     "output_type": "execute_result"
    }
   ],
   "source": [
    "a = 2\n",
    "hdi(a,a)[1] - hdi(a,a)[0]"
   ]
  },
  {
   "cell_type": "markdown",
   "id": "3244baf3",
   "metadata": {},
   "source": [
    "Work in progress, use command above and check with sample solution"
   ]
  }
 ],
 "metadata": {
  "kernelspec": {
   "display_name": "Python 3 (ipykernel)",
   "language": "python",
   "name": "python3"
  },
  "language_info": {
   "codemirror_mode": {
    "name": "ipython",
    "version": 3
   },
   "file_extension": ".py",
   "mimetype": "text/x-python",
   "name": "python",
   "nbconvert_exporter": "python",
   "pygments_lexer": "ipython3",
   "version": "3.12.7"
  }
 },
 "nbformat": 4,
 "nbformat_minor": 5
}
