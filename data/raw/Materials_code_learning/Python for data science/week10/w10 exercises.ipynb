{
 "cells": [
  {
   "cell_type": "code",
   "execution_count": null,
   "id": "initial_id",
   "metadata": {
    "collapsed": true
   },
   "outputs": [],
   "source": [
    "\"\"\"Often it is more straight forward to analyze data in a jupyter notebook than in an over-engineered python application. Hence, for training purposes, do the following analysis on air quality data given in airquality.csv in a jupyter notebook:\n",
    "1. Create a new jupyter notebook in PyCharm. done\n",
    "2. Import numpy and pandas and load the airquality.csv file into a data.frame.done\n",
    "3. Calculate some statistics of the temperature values. Report them as text in the jupyter notebook. done\n",
    "4. Find outlier (one) and correct it by averaging the values before and after the outlier. Make a note to the report.done\n",
    "5. Plot the temperature series with matplotlib or seaborn and add it to the report.done\n",
    "6. Create a temperature converter function from °F to °C (formula: °F = °C × (9/5) + 32).\n",
    "7. Convert all temperature values from °F to °C using map().\n",
    "8. Plot both temperature graphs in one figure and add it to the report.\n",
    "9. Declare a class “AirQualityReport” comprising object variables that store the mean values of columns where reasonable. 10. Add a object method to the class that calculate the max value of all object variables. The function should return a\n",
    "dictionary containing the original column name of the variable with the max value and the maximum value itself. 11.Export the report to an HTML and/or a PDF document.\n",
    "12.Explore Pandas, Numpy and matplotlib functionalities in more detail.\"\"\""
   ]
  },
  {
   "metadata": {
    "ExecuteTime": {
     "end_time": "2025-04-28T16:35:51.589810Z",
     "start_time": "2025-04-28T16:35:51.582728Z"
    }
   },
   "cell_type": "code",
   "source": [
    "import numpy as np\n",
    "import pandas as pd\n",
    "dataset= pd.read_csv(\"airquality.csv\")\n",
    "\n"
   ],
   "id": "c4d2e3a8a63f3126",
   "outputs": [],
   "execution_count": 3
  },
  {
   "metadata": {
    "ExecuteTime": {
     "end_time": "2025-04-28T16:35:52.933904Z",
     "start_time": "2025-04-28T16:35:52.930942Z"
    }
   },
   "cell_type": "code",
   "source": [
    "print(dir(pd))\n",
    "print(dir(pd.DataFrame))"
   ],
   "id": "9da962ca7196445b",
   "outputs": [
    {
     "name": "stdout",
     "output_type": "stream",
     "text": [
      "['ArrowDtype', 'BooleanDtype', 'Categorical', 'CategoricalDtype', 'CategoricalIndex', 'DataFrame', 'DateOffset', 'DatetimeIndex', 'DatetimeTZDtype', 'ExcelFile', 'ExcelWriter', 'Flags', 'Float32Dtype', 'Float64Dtype', 'Grouper', 'HDFStore', 'Index', 'IndexSlice', 'Int16Dtype', 'Int32Dtype', 'Int64Dtype', 'Int8Dtype', 'Interval', 'IntervalDtype', 'IntervalIndex', 'MultiIndex', 'NA', 'NaT', 'NamedAgg', 'Period', 'PeriodDtype', 'PeriodIndex', 'RangeIndex', 'Series', 'SparseDtype', 'StringDtype', 'Timedelta', 'TimedeltaIndex', 'Timestamp', 'UInt16Dtype', 'UInt32Dtype', 'UInt64Dtype', 'UInt8Dtype', '__all__', '__builtins__', '__cached__', '__doc__', '__docformat__', '__file__', '__git_version__', '__loader__', '__name__', '__package__', '__path__', '__spec__', '__version__', '_built_with_meson', '_config', '_is_numpy_dev', '_libs', '_pandas_datetime_CAPI', '_pandas_parser_CAPI', '_testing', '_typing', '_version_meson', 'annotations', 'api', 'array', 'arrays', 'bdate_range', 'compat', 'concat', 'core', 'crosstab', 'cut', 'date_range', 'describe_option', 'errors', 'eval', 'factorize', 'from_dummies', 'get_dummies', 'get_option', 'infer_freq', 'interval_range', 'io', 'isna', 'isnull', 'json_normalize', 'lreshape', 'melt', 'merge', 'merge_asof', 'merge_ordered', 'notna', 'notnull', 'offsets', 'option_context', 'options', 'pandas', 'period_range', 'pivot', 'pivot_table', 'plotting', 'qcut', 'read_clipboard', 'read_csv', 'read_excel', 'read_feather', 'read_fwf', 'read_gbq', 'read_hdf', 'read_html', 'read_json', 'read_orc', 'read_parquet', 'read_pickle', 'read_sas', 'read_spss', 'read_sql', 'read_sql_query', 'read_sql_table', 'read_stata', 'read_table', 'read_xml', 'reset_option', 'set_eng_float_format', 'set_option', 'show_versions', 'test', 'testing', 'timedelta_range', 'to_datetime', 'to_numeric', 'to_pickle', 'to_timedelta', 'tseries', 'unique', 'util', 'value_counts', 'wide_to_long']\n",
      "['T', '_AXIS_LEN', '_AXIS_ORDERS', '_AXIS_TO_AXIS_NUMBER', '_HANDLED_TYPES', '__abs__', '__add__', '__and__', '__annotations__', '__array__', '__array_priority__', '__array_ufunc__', '__arrow_c_stream__', '__bool__', '__class__', '__contains__', '__copy__', '__dataframe__', '__dataframe_consortium_standard__', '__deepcopy__', '__delattr__', '__delitem__', '__dict__', '__dir__', '__divmod__', '__doc__', '__eq__', '__finalize__', '__firstlineno__', '__floordiv__', '__format__', '__ge__', '__getattr__', '__getattribute__', '__getitem__', '__getstate__', '__gt__', '__hash__', '__iadd__', '__iand__', '__ifloordiv__', '__imod__', '__imul__', '__init__', '__init_subclass__', '__invert__', '__ior__', '__ipow__', '__isub__', '__iter__', '__itruediv__', '__ixor__', '__le__', '__len__', '__lt__', '__matmul__', '__mod__', '__module__', '__mul__', '__ne__', '__neg__', '__new__', '__nonzero__', '__or__', '__pandas_priority__', '__pos__', '__pow__', '__radd__', '__rand__', '__rdivmod__', '__reduce__', '__reduce_ex__', '__repr__', '__rfloordiv__', '__rmatmul__', '__rmod__', '__rmul__', '__ror__', '__round__', '__rpow__', '__rsub__', '__rtruediv__', '__rxor__', '__setattr__', '__setitem__', '__setstate__', '__sizeof__', '__static_attributes__', '__str__', '__sub__', '__subclasshook__', '__truediv__', '__weakref__', '__xor__', '_accessors', '_accum_func', '_agg_examples_doc', '_agg_see_also_doc', '_align_for_op', '_align_frame', '_align_series', '_append', '_arith_method', '_arith_method_with_reindex', '_as_manager', '_box_col_values', '_can_fast_transpose', '_check_inplace_and_allows_duplicate_labels', '_check_is_chained_assignment_possible', '_check_label_or_level_ambiguity', '_check_setitem_copy', '_clear_item_cache', '_clip_with_one_bound', '_clip_with_scalar', '_cmp_method', '_combine_frame', '_consolidate', '_consolidate_inplace', '_construct_axes_dict', '_construct_result', '_constructor', '_constructor_from_mgr', '_constructor_sliced', '_constructor_sliced_from_mgr', '_create_data_for_split_and_tight_to_dict', '_data', '_deprecate_downcast', '_dir_additions', '_dir_deletions', '_dispatch_frame_op', '_drop_axis', '_drop_labels_or_levels', '_ensure_valid_index', '_find_valid_index', '_flex_arith_method', '_flex_cmp_method', '_from_arrays', '_from_mgr', '_get_agg_axis', '_get_axis', '_get_axis_name', '_get_axis_number', '_get_axis_resolvers', '_get_block_manager_axis', '_get_bool_data', '_get_cleaned_column_resolvers', '_get_column_array', '_get_index_resolvers', '_get_item_cache', '_get_label_or_level_values', '_get_numeric_data', '_get_value', '_get_values_for_csv', '_getitem_bool_array', '_getitem_multilevel', '_getitem_nocopy', '_getitem_slice', '_gotitem', '_hidden_attrs', '_indexed_same', '_info_axis', '_info_axis_name', '_info_axis_number', '_info_repr', '_init_mgr', '_inplace_method', '_internal_names', '_internal_names_set', '_is_copy', '_is_homogeneous_type', '_is_label_or_level_reference', '_is_label_reference', '_is_level_reference', '_is_mixed_type', '_is_view', '_is_view_after_cow_rules', '_iset_item', '_iset_item_mgr', '_iset_not_inplace', '_iter_column_arrays', '_ixs', '_logical_func', '_logical_method', '_maybe_align_series_as_frame', '_maybe_cache_changed', '_maybe_update_cacher', '_metadata', '_min_count_stat_function', '_needs_reindex_multi', '_pad_or_backfill', '_protect_consolidate', '_reduce', '_reduce_axis1', '_reindex_axes', '_reindex_multi', '_reindex_with_indexers', '_rename', '_replace_columnwise', '_repr_data_resource_', '_repr_fits_horizontal_', '_repr_fits_vertical_', '_repr_html_', '_repr_latex_', '_reset_cache', '_reset_cacher', '_sanitize_column', '_series', '_set_axis', '_set_axis_name', '_set_axis_nocheck', '_set_is_copy', '_set_item', '_set_item_frame_value', '_set_item_mgr', '_set_value', '_setitem_array', '_setitem_frame', '_setitem_slice', '_shift_with_freq', '_should_reindex_frame_op', '_slice', '_stat_function', '_stat_function_ddof', '_take_with_is_copy', '_to_dict_of_blocks', '_to_latex_via_styler', '_typ', '_update_inplace', '_validate_dtype', '_values', '_where', 'abs', 'add', 'add_prefix', 'add_suffix', 'agg', 'aggregate', 'align', 'all', 'any', 'apply', 'applymap', 'asfreq', 'asof', 'assign', 'astype', 'at', 'at_time', 'attrs', 'axes', 'backfill', 'between_time', 'bfill', 'bool', 'boxplot', 'clip', 'columns', 'combine', 'combine_first', 'compare', 'convert_dtypes', 'copy', 'corr', 'corrwith', 'count', 'cov', 'cummax', 'cummin', 'cumprod', 'cumsum', 'describe', 'diff', 'div', 'divide', 'dot', 'drop', 'drop_duplicates', 'droplevel', 'dropna', 'dtypes', 'duplicated', 'empty', 'eq', 'equals', 'eval', 'ewm', 'expanding', 'explode', 'ffill', 'fillna', 'filter', 'first', 'first_valid_index', 'flags', 'floordiv', 'from_dict', 'from_records', 'ge', 'get', 'groupby', 'gt', 'head', 'hist', 'iat', 'idxmax', 'idxmin', 'iloc', 'index', 'infer_objects', 'info', 'insert', 'interpolate', 'isetitem', 'isin', 'isna', 'isnull', 'items', 'iterrows', 'itertuples', 'join', 'keys', 'kurt', 'kurtosis', 'last', 'last_valid_index', 'le', 'loc', 'lt', 'map', 'mask', 'max', 'mean', 'median', 'melt', 'memory_usage', 'merge', 'min', 'mod', 'mode', 'mul', 'multiply', 'ndim', 'ne', 'nlargest', 'notna', 'notnull', 'nsmallest', 'nunique', 'pad', 'pct_change', 'pipe', 'pivot', 'pivot_table', 'plot', 'pop', 'pow', 'prod', 'product', 'quantile', 'query', 'radd', 'rank', 'rdiv', 'reindex', 'reindex_like', 'rename', 'rename_axis', 'reorder_levels', 'replace', 'resample', 'reset_index', 'rfloordiv', 'rmod', 'rmul', 'rolling', 'round', 'rpow', 'rsub', 'rtruediv', 'sample', 'select_dtypes', 'sem', 'set_axis', 'set_flags', 'set_index', 'shape', 'shift', 'size', 'skew', 'sort_index', 'sort_values', 'sparse', 'squeeze', 'stack', 'std', 'style', 'sub', 'subtract', 'sum', 'swapaxes', 'swaplevel', 'tail', 'take', 'to_clipboard', 'to_csv', 'to_dict', 'to_excel', 'to_feather', 'to_gbq', 'to_hdf', 'to_html', 'to_json', 'to_latex', 'to_markdown', 'to_numpy', 'to_orc', 'to_parquet', 'to_period', 'to_pickle', 'to_records', 'to_sql', 'to_stata', 'to_string', 'to_timestamp', 'to_xarray', 'to_xml', 'transform', 'transpose', 'truediv', 'truncate', 'tz_convert', 'tz_localize', 'unstack', 'update', 'value_counts', 'values', 'var', 'where', 'xs']\n"
     ]
    }
   ],
   "execution_count": 4
  },
  {
   "metadata": {
    "ExecuteTime": {
     "end_time": "2025-04-28T16:35:54.697433Z",
     "start_time": "2025-04-28T16:35:54.688183Z"
    }
   },
   "cell_type": "code",
   "source": [
    "dataset.head()\n",
    "dataset.describe()\n",
    "print(dataset.columns)"
   ],
   "id": "5c1637ff84650508",
   "outputs": [
    {
     "name": "stdout",
     "output_type": "stream",
     "text": [
      "Index(['rownames', 'Ozone', 'Solar.R', 'Wind', 'Temp', 'Month', 'Day'], dtype='object')\n"
     ]
    }
   ],
   "execution_count": 5
  },
  {
   "metadata": {
    "ExecuteTime": {
     "end_time": "2025-04-28T16:35:56.276356Z",
     "start_time": "2025-04-28T16:35:56.270779Z"
    }
   },
   "cell_type": "code",
   "source": [
    "###3. Calculate some statistics of the temperature values. Report them as text in the jupyter notebook. done\n",
    "dataset[\"Temp\"]\n",
    "dataset[\"Temp\"].describe()\n",
    "dataset[\"Temp\"].count()\n",
    "print(f\"the total counts of values is {dataset[\"Temp\"].count()}\")\n",
    "print(dataset[\"Temp\"].max())\n",
    "print(f\"the maximum value of Temperature here is {dataset[\"Temp\"].max()}\")\n",
    "dataset[\"Temp\"].sum()\n",
    "print(f\"the sum of Temperature here is {dataset[\"Temp\"].sum()}\")\n"
   ],
   "id": "224da836d1cc6db4",
   "outputs": [
    {
     "name": "stdout",
     "output_type": "stream",
     "text": [
      "the total counts of values is 153\n",
      "97.0\n",
      "the maximum value of Temperature here is 97.0\n",
      "the sum of Temperature here is 11647.0\n"
     ]
    }
   ],
   "execution_count": 6
  },
  {
   "metadata": {
    "ExecuteTime": {
     "end_time": "2025-04-28T16:45:45.084371Z",
     "start_time": "2025-04-28T16:45:45.033057Z"
    }
   },
   "cell_type": "code",
   "source": [
    "### Find outlier (one) and correct it by averaging the values before and after the outlier. Make a note to the report.\n",
    "# Step 1: Quick look at possible outliers\n",
    "import matplotlib.pyplot as plt\n",
    "plt.plot(dataset[\"Temp\"].values)\n",
    "plt.title(\"Temperature over index\")\n",
    "plt.xlabel(\"Index\")\n",
    "plt.ylabel(\"Temperature\")\n",
    "plt.show()\n",
    "\n",
    "# Step 2: Find the outlier using statistics (optional, but more automated)\n",
    "mean_temp = dataset[\"Temp\"].mean()\n",
    "std_temp = dataset[\"Temp\"].std()\n",
    "print(mean_temp)\n",
    "print(std_temp)\n",
    "\n",
    "# Assume outlier if it's beyond 3 standard deviations\n",
    "outliers = dataset[(dataset[\"Temp\"] > mean_temp + 3*std_temp) | (dataset[\"Temp\"] < mean_temp - 2*std_temp)]\n",
    "print(outliers)\n",
    "\n",
    "# Step 3: Choose one outlier to fix\n",
    "# Suppose you find an outlier at index `i`\n",
    "i = outliers.index[0]  # picking the first outlier\n",
    "\n",
    "# Step 4: Correct the outlier\n",
    "# Average the temperature before and after\n",
    "prev_temp = dataset.loc[i - 1, \"Temp\"]\n",
    "next_temp = dataset.loc[i + 1, \"Temp\"]\n",
    "new_temp = (prev_temp + next_temp) / 2\n",
    "\n",
    "# Update the dataset\n",
    "dataset.loc[i, \"Temp\"] = new_temp\n",
    "\n",
    "print(f\"Outlier at index {i} corrected by averaging {prev_temp} and {next_temp} to {new_temp}.\")"
   ],
   "id": "9db621598d07561a",
   "outputs": [
    {
     "data": {
      "text/plain": [
       "<Figure size 640x480 with 1 Axes>"
      ],
      "image/png": "[encoded data removed]"
     },
     "metadata": {},
     "output_type": "display_data"
    },
    {
     "name": "stdout",
     "output_type": "stream",
     "text": [
      "    rownames  Ozone  Solar.R  Wind  Temp  Month   Day\n",
      "4        5.0    NaN      NaN  14.3  56.0    5.0   5.0\n",
      "7        8.0   19.0     99.0  13.8  59.0    5.0   8.0\n",
      "14      15.0   18.0     65.0  13.2  58.0    5.0  15.0\n",
      "17      18.0    6.0     78.0  18.4  57.0    5.0  18.0\n",
      "20      21.0    1.0      8.0   9.7  59.0    5.0  21.0\n",
      "25      26.0    NaN    266.0  14.9  58.0    5.0  26.0\n",
      "26      27.0    NaN      NaN   8.0  57.0    5.0  27.0\n",
      "Outlier at index 4 corrected by averaging 62.0 and 66.0 to 64.0.\n"
     ]
    }
   ],
   "execution_count": 13
  },
  {
   "metadata": {},
   "cell_type": "code",
   "outputs": [],
   "execution_count": null,
   "source": [
    "###5. Plot the temperature series with matplotlib or seaborn and add it to the report.\n",
    "plt.plot(dataset[\"Temp\"])###plot1\n",
    "\n",
    "plt.boxplot(dataset[\"Temp\"].dropna())###plot2 if column has NaN values, you might want to drop\n",
    "print(dataset[\"Temp\"].dtype)###checking data type\n",
    "print(dataset[\"Temp\"].isna().sum())  ### how many NaN values\n",
    "print(dataset[\"Temp\"].shape)         ### how many entries\n",
    "print(dataset[\"Temp\"].unique())###checking unique values\n",
    "\n",
    "plt.boxplot(dataset[\"Temp\"])\n",
    "plt.show()\n",
    "\n",
    "###gpt upgraded plot using matplotlib\n",
    "plt.figure(figsize=(10, 6))  # bigger figure\n",
    "plt.plot(dataset[\"Temp\"], linewidth=2)  # thicker line\n",
    "plt.title(\"Temperature Over Time\", fontsize=16)\n",
    "plt.xlabel(\"Time\", fontsize=14)\n",
    "plt.ylabel(\"Temperature\", fontsize=14)\n",
    "plt.grid(True, linestyle='--', alpha=0.7)  # add light dashed grid\n",
    "plt.xticks(fontsize=12)\n",
    "plt.yticks(fontsize=12)\n",
    "plt.tight_layout()  # fit nicely\n",
    "plt.show()"
   ],
   "id": "d5f8a4cce3fb61b8"
  },
  {
   "metadata": {
    "ExecuteTime": {
     "end_time": "2025-04-29T11:12:57.365033Z",
     "start_time": "2025-04-29T11:12:57.337432Z"
    }
   },
   "cell_type": "code",
   "source": [
    "###6. Create a temperature converter function from °F to °C (formula: °F = °C × (9/5) + 32)\n",
    "def converter(temperature):\n",
    "        try:\n",
    "            float(temperature)==True\n",
    "        except:\n",
    "            print(\"wrong input, please try again.\")\n",
    "        temperature_C=(temperature-32)/(9/5)\n",
    "        return temperature_F\n",
    "\n",
    "\n",
    "for temperature in dataset[\"Temp\"].dropna():\n",
    "    print(f'the converted temperature from °F to °C  is {converter(temperature)}')\n",
    "\n",
    "\n",
    "###chatgpt corrected and 7. Convert all temperature values from °F to °C using map().\n",
    "def converter(temperature):\n",
    "    try:\n",
    "        temperature = float(temperature)\n",
    "        temperature_C = (temperature - 32) * 5/9\n",
    "        return temperature_C\n",
    "    except ValueError:\n",
    "        print(\"Wrong input, please try again.\")\n",
    "        return None\n",
    "\n",
    "# Apply to dataset\n",
    "dataset[\"Temp_C\"] = dataset[\"Temp\"].map(converter)\n",
    "\n",
    "# Check the result\n",
    "print(dataset[[\"Temp\", \"Temp_C\"]].head())\n",
    "\n",
    "\n",
    "\n"
   ],
   "id": "179fdb001e2a62e8",
   "outputs": [
    {
     "ename": "SyntaxError",
     "evalue": "unterminated f-string literal (detected at line 12) (3004622848.py, line 12)",
     "output_type": "error",
     "traceback": [
      "  \u001B[36mCell\u001B[39m\u001B[36m \u001B[39m\u001B[32mIn[34]\u001B[39m\u001B[32m, line 12\u001B[39m\n\u001B[31m    \u001B[39m\u001B[31mprint(f'the converted temperature from °F to °C  is {converter(temperature)})\u001B[39m\n          ^\n\u001B[31mSyntaxError\u001B[39m\u001B[31m:\u001B[39m unterminated f-string literal (detected at line 12)\n"
     ]
    }
   ],
   "execution_count": 34
  },
  {
   "metadata": {},
   "cell_type": "code",
   "outputs": [],
   "execution_count": null,
   "source": [
    "###8. Plot both temperature graphs in one figure and add it to the report.\n",
    "plt.figure(figsize=(12, 6))###width 12 inch\n",
    "# Plot Fahrenheit\n",
    "plt.plot(dataset.index, dataset[\"Temp\"], label=\"Temperature (°F)\", linewidth=2)\n",
    "# Plot Celsius\n",
    "plt.plot(dataset.index, dataset[\"Temp_C\"], label=\"Temperature (°C)\", linewidth=2)\n",
    "\n",
    "plt.title(\"Temperature Over Time (°F and °C)\", fontsize=16)\n",
    "plt.xlabel(\"Time\", fontsize=14)\n",
    "plt.ylabel(\"Temperature\", fontsize=14)\n",
    "plt.grid(True, linestyle='--', alpha=0.7)\n",
    "plt.legend(fontsize=12)  # show which line is which\n",
    "plt.xticks(fontsize=12)\n",
    "plt.yticks(fontsize=12)\n",
    "plt.tight_layout()\n",
    "plt.show()\n",
    "\n",
    "\n"
   ],
   "id": "f9b7de71c948ba6"
  },
  {
   "metadata": {
    "ExecuteTime": {
     "end_time": "2025-04-29T15:06:44.858883Z",
     "start_time": "2025-04-29T15:06:44.808866Z"
    }
   },
   "cell_type": "code",
   "source": [
    "###9. Declare a class “AirQualityReport” comprising object variables that store the mean values of columns where reasonable.\n",
    "class AirQualityReport:\n",
    "    def __init__(self, dataset):\n",
    "        # Save dataset inside the object (optional but useful)\n",
    "        self.dataset = dataset# <-- object variable\n",
    "        # Calculate mean values for reasonable columns\n",
    "        self.mean_temp_F = dataset[\"Temp\"].mean()# <-- object variable\n",
    "\n",
    "        if \"Temp_C\" in dataset.columns:\n",
    "            self.mean_temp_C = dataset[\"Temp_C\"].mean()# <-- object variable\n",
    "\n",
    "        # Add other columns if needed (example for humidity, etc.)\n",
    "        # self.mean_humidity = dataset[\"Humidity\"].mean()\n",
    "\n",
    "    def show_report(self):\n",
    "        print(f\"Average Temperature (°F): {self.mean_temp_F:.2f}\")\n",
    "\n",
    "        if hasattr(self, 'mean_temp_C'):\n",
    "            print(f\"Average Temperature (°C): {self.mean_temp_C:.2f}\")\n",
    "    def max_value(self):\n",
    "        max_value_column = self.dataset.max()\n",
    "        result = {}\n",
    "        for k, v in max_value_column.items():\n",
    "            print(f'colname is {k}, max value is {v}')\n",
    "            result[k] = v\n",
    "        return result\n",
    "\n",
    "\"\"\"above 10. Add a object method to the class that calculate the max value of all object variables. The function should return a dictionary containing the original column name of the variable with the max value and the maximum value itself.\"\"\"\n",
    "\n",
    "\n",
    "\n",
    "report = AirQualityReport(dataset)# <-- the object: report\n",
    "report.show_report()\n",
    "report.max_value()\n",
    "print(report.max_value())\n"
   ],
   "id": "c335ad7266a2a102",
   "outputs": [
    {
     "name": "stdout",
     "output_type": "stream",
     "text": [
      "Average Temperature (°F): 77.95\n",
      "Average Temperature (°C): 25.53\n",
      "colname is rownames, max value is 153.0\n",
      "colname is Ozone, max value is 168.0\n",
      "colname is Solar.R, max value is 334.0\n",
      "colname is Wind, max value is 20.7\n",
      "colname is Temp, max value is 97.0\n",
      "colname is Month, max value is 9.0\n",
      "colname is Day, max value is 31.0\n",
      "colname is Temp_C, max value is 36.111111111111114\n",
      "colname is rownames, max value is 153.0\n",
      "colname is Ozone, max value is 168.0\n",
      "colname is Solar.R, max value is 334.0\n",
      "colname is Wind, max value is 20.7\n",
      "colname is Temp, max value is 97.0\n",
      "colname is Month, max value is 9.0\n",
      "colname is Day, max value is 31.0\n",
      "colname is Temp_C, max value is 36.111111111111114\n",
      "{'rownames': 153.0, 'Ozone': 168.0, 'Solar.R': 334.0, 'Wind': 20.7, 'Temp': 97.0, 'Month': 9.0, 'Day': 31.0, 'Temp_C': 36.111111111111114}\n"
     ]
    },
    {
     "ename": "AttributeError",
     "evalue": "'AirQualityReport' object has no attribute 'export_report'",
     "output_type": "error",
     "traceback": [
      "\u001B[31m---------------------------------------------------------------------------\u001B[39m",
      "\u001B[31mAttributeError\u001B[39m                            Traceback (most recent call last)",
      "\u001B[36mCell\u001B[39m\u001B[36m \u001B[39m\u001B[32mIn[76]\u001B[39m\u001B[32m, line 37\u001B[39m\n\u001B[32m     35\u001B[39m \u001B[38;5;28mprint\u001B[39m(report.max_value())\n\u001B[32m     36\u001B[39m  \u001B[38;5;66;03m###11.Export the report to an HTML and/or a PDF document.\u001B[39;00m\n\u001B[32m---> \u001B[39m\u001B[32m37\u001B[39m \u001B[43mreport\u001B[49m\u001B[43m.\u001B[49m\u001B[43mexport_report\u001B[49m(\u001B[33m\"\u001B[39m\u001B[33mair_quality.html\u001B[39m\u001B[33m\"\u001B[39m)\n",
      "\u001B[31mAttributeError\u001B[39m: 'AirQualityReport' object has no attribute 'export_report'"
     ]
    }
   ],
   "execution_count": 76
  },
  {
   "metadata": {
    "ExecuteTime": {
     "end_time": "2025-04-29T15:10:22.570468Z",
     "start_time": "2025-04-29T15:10:22.515853Z"
    }
   },
   "cell_type": "code",
   "source": [
    "###11.Export the report to an HTML and/or a PDF document.\n",
    "# Install first if you don't have it:\n",
    "# pip install reportlab\n",
    "\n",
    "from reportlab.pdfgen import canvas\n",
    "# Create a PDF file\n",
    "pdf_file = \"air_quality_report.pdf\"\n",
    "c = canvas.Canvas(pdf_file)\n",
    "# Add title\n",
    "c.setFont(\"Helvetica-Bold\", 16)\n",
    "c.drawString(100, 800, \"Air Quality Report\")\n",
    "# Add report lines\n",
    "c.setFont(\"Helvetica\", 12)\n",
    "c.drawString(100, 770, \"Average Temperature (°F): 72.34\")\n",
    "c.drawString(100, 750, \"Average Temperature (°C): 22.41\")\n",
    "c.drawString(100, 730, \"Max Object Variable: Temp_C = 22.41\")\n",
    "# Save the PDF\n",
    "c.save()\n",
    "\n",
    "print(f\"PDF report saved as {pdf_file}\")\n",
    "import os\n",
    "# Name of your PDF file\n",
    "filename = \"air_quality_report.pdf\"\n",
    "# Open the PDF on macOS\n",
    "os.system(f\"open '{filename}'\")\n",
    "\n"
   ],
   "id": "cd48c9ee225b0143",
   "outputs": [
    {
     "ename": "AttributeError",
     "evalue": "'AirQualityReport' object has no attribute 'export_report'",
     "output_type": "error",
     "traceback": [
      "\u001B[31m---------------------------------------------------------------------------\u001B[39m",
      "\u001B[31mAttributeError\u001B[39m                            Traceback (most recent call last)",
      "\u001B[36mCell\u001B[39m\u001B[36m \u001B[39m\u001B[32mIn[79]\u001B[39m\u001B[32m, line 4\u001B[39m\n\u001B[32m      1\u001B[39m  \u001B[38;5;66;03m###11.Export the report to an HTML and/or a PDF document.\u001B[39;00m\n\u001B[32m      2\u001B[39m \u001B[38;5;66;03m###pip install xhtml2pdf\u001B[39;00m\n\u001B[32m      3\u001B[39m  \u001B[38;5;66;03m# Export to PDF\u001B[39;00m\n\u001B[32m----> \u001B[39m\u001B[32m4\u001B[39m \u001B[43mreport\u001B[49m\u001B[43m.\u001B[49m\u001B[43mexport_report\u001B[49m(filename=\u001B[33m\"\u001B[39m\u001B[33mmy_air_quality_report.pdf\u001B[39m\u001B[33m\"\u001B[39m, \u001B[38;5;28mformat\u001B[39m=\u001B[33m\"\u001B[39m\u001B[33mpdf\u001B[39m\u001B[33m\"\u001B[39m)\n",
      "\u001B[31mAttributeError\u001B[39m: 'AirQualityReport' object has no attribute 'export_report'"
     ]
    }
   ],
   "execution_count": 79
  },
  {
   "metadata": {},
   "cell_type": "code",
   "outputs": [],
   "execution_count": null,
   "source": "###12.Explore Pandas, Numpy and matplotlib functionalities in more detail.",
   "id": "9e6d63c47c0cc7d7"
  }
 ],
 "metadata": {
  "kernelspec": {
   "display_name": "Python 3",
   "language": "python",
   "name": "python3"
  },
  "language_info": {
   "codemirror_mode": {
    "name": "ipython",
    "version": 2
   },
   "file_extension": ".py",
   "mimetype": "text/x-python",
   "name": "python",
   "nbconvert_exporter": "python",
   "pygments_lexer": "ipython2",
   "version": "2.7.6"
  }
 },
 "nbformat": 4,
 "nbformat_minor": 5
}
